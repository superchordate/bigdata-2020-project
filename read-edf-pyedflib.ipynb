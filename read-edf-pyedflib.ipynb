{
 "cells": [
  {
   "cell_type": "code",
   "execution_count": 12,
   "metadata": {},
   "outputs": [
    {
     "name": "stderr",
     "output_type": "stream",
     "text": [
      "C:\\Users\\Bryce\\Documents\\Python37\\lib\\site-packages\\pyedflib\\highlevel.py:369: UserWarning: Not all sampling frequencies are the same ([512, 512, 512, 512, 512, 512, 512, 512, 512, 512, 512, 256, 512, 64, 64, 64, 256, 256, 64, 1, 1]). \n",
      "  .format(sfreqs))\n"
     ]
    }
   ],
   "source": [
    "# https://github.com/holgern/pyedflib\n",
    "from pyedflib import highlevel\n",
    "signals, signal_headers, header = highlevel.read_edf('data/n1.edf')"
   ]
  },
  {
   "cell_type": "code",
   "execution_count": 15,
   "metadata": {},
   "outputs": [
    {
     "name": "stdout",
     "output_type": "stream",
     "text": [
      "         label dimension  sample_rate  physical_max  physical_min  \\\n",
      "0      ROC-LOC        uV          512         66.67        -66.67   \n",
      "1      LOC-ROC        uV          512         66.67        -66.67   \n",
      "2        F2-F4        uV          512         62.50        -62.50   \n",
      "3        F4-C4        uV          512         62.50        -62.50   \n",
      "4        C4-P4        uV          512         62.50        -62.50   \n",
      "5        P4-O2        uV          512         62.50        -62.50   \n",
      "6        F1-F3        uV          512         62.50        -62.50   \n",
      "7        F3-C3        uV          512         62.50        -62.50   \n",
      "8        C3-P3        uV          512         62.50        -62.50   \n",
      "9        P3-O1        uV          512         62.50        -62.50   \n",
      "10       C4-A1        uV          512         62.50        -62.50   \n",
      "11   EMG1-EMG2        uV          256         80.00        -80.00   \n",
      "12   ECG1-ECG2        uV          512       -250.00        250.00   \n",
      "13  TERMISTORE        uV           64        -80.00         80.00   \n",
      "14      TORACE        mV           64          3.33         -3.33   \n",
      "15      ADDOME        mV           64          1.00         -1.00   \n",
      "16     Dx1-DX2        uV          256        250.00       -250.00   \n",
      "17     SX1-SX2        uV          256        250.00       -250.00   \n",
      "18   Posizione                     64          3.00          0.00   \n",
      "19          HR       BPM            1        200.00          0.00   \n",
      "20        SpO2         %            1        100.00          0.00   \n",
      "\n",
      "    digital_max  digital_min                        prefilter     transducer  \n",
      "0          2184        -2184    LP:30.00Hz HP:0.30Hz NOTCH:50    EEG ROC-LOC  \n",
      "1          2184        -2184    LP:30.00Hz HP:0.30Hz NOTCH:50    EEG LOC-ROC  \n",
      "2          2047        -2048    LP:30.00Hz HP:0.30Hz NOTCH:50      EEG F2-F4  \n",
      "3          2047        -2048    LP:30.00Hz HP:0.30Hz NOTCH:50      EEG F4-C4  \n",
      "4          2047        -2048    LP:30.00Hz HP:0.30Hz NOTCH:50      EEG C4-P4  \n",
      "5          2047        -2048    LP:30.00Hz HP:0.30Hz NOTCH:50      EEG P4-O2  \n",
      "6          2047        -2048    LP:30.00Hz HP:0.30Hz NOTCH:50      EEG F1-F3  \n",
      "7          2047        -2048    LP:30.00Hz HP:0.30Hz NOTCH:50      EEG F3-C3  \n",
      "8          2047        -2048    LP:30.00Hz HP:0.30Hz NOTCH:50      EEG C3-P3  \n",
      "9          2047        -2048    LP:30.00Hz HP:0.30Hz NOTCH:50      EEG P3-O1  \n",
      "10         2047        -2048    LP:30.00Hz HP:0.30Hz NOTCH:50      EEG C4-A1  \n",
      "11         2621        -2621  LP:100.00Hz HP:10.00Hz NOTCH:50            EMG  \n",
      "12         8191        -8192    LP:30.00Hz HP:0.30Hz NOTCH:50  EEG ECG1-ECG2  \n",
      "13         2621        -2621     LP:3.00Hz HP:0.05Hz NOTCH:50             HP  \n",
      "14        21844       -21845     LP:3.00Hz HP:0.05Hz NOTCH:50             HP  \n",
      "15         6553        -6553     LP:3.00Hz HP:0.05Hz NOTCH:50             HP  \n",
      "16         8191        -8192  LP:100.00Hz HP:10.00Hz NOTCH:50            EMG  \n",
      "17         8191        -8192  LP:100.00Hz HP:10.00Hz NOTCH:50            EMG  \n",
      "18            3            0                                              DC  \n",
      "19        32767       -32768                                        Oximeter  \n",
      "20        32767       -32768                                        Oximeter  \n"
     ]
    }
   ],
   "source": [
    "import pandas as pd\n",
    "print(pd.DataFrame(signal_headers))"
   ]
  },
  {
   "cell_type": "code",
   "execution_count": 16,
   "metadata": {},
   "outputs": [
    {
     "name": "stdout",
     "output_type": "stream",
     "text": [
      "{'technician': '', 'recording_additional': '', 'patientname': '', 'patient_additional': '', 'patientcode': '', 'equipment': '', 'admincode': '', 'gender': '', 'startdate': datetime.datetime(2009, 1, 1, 22, 6, 3), 'birthdate': '', 'annotations': []}\n"
     ]
    }
   ],
   "source": [
    "print(header)"
   ]
  },
  {
   "cell_type": "code",
   "execution_count": 26,
   "metadata": {},
   "outputs": [
    {
     "name": "stdout",
     "output_type": "stream",
     "text": [
      "21 channels; 17.7 M measurements\n"
     ]
    }
   ],
   "source": [
    "print('%s channels; %s M measurements' % (len(signals), round(len(signals[1])/1000000,1)))"
   ]
  }
 ],
 "metadata": {
  "kernelspec": {
   "display_name": "Python 3.7.4 64-bit",
   "language": "python",
   "name": "python37464bitc98999ce2790489ea0e7546cab96d062"
  },
  "language_info": {
   "codemirror_mode": {
    "name": "ipython",
    "version": 3
   },
   "file_extension": ".py",
   "mimetype": "text/x-python",
   "name": "python",
   "nbconvert_exporter": "python",
   "pygments_lexer": "ipython3",
   "version": "3.7.4"
  }
 },
 "nbformat": 4,
 "nbformat_minor": 2
}